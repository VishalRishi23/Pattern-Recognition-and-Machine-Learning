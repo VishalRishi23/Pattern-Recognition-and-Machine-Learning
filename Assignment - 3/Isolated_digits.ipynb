{
 "cells": [
  {
   "cell_type": "code",
   "execution_count": 1,
   "metadata": {},
   "outputs": [],
   "source": [
    "import os\n",
    "import random\n",
    "import numpy as np\n",
    "import matplotlib.pyplot as plt\n",
    "import pandas as pd\n",
    "import seaborn as sns\n",
    "from sklearn.preprocessing import OneHotEncoder\n",
    "from sklearn.metrics import confusion_matrix, DetCurveDisplay"
   ]
  },
  {
   "cell_type": "code",
   "execution_count": 32,
   "metadata": {},
   "outputs": [],
   "source": [
    "def assign_cluster(X,centroid):\n",
    "  d = 0 #Distortion\n",
    "  clusters = {i: [] for i in range(len(centroid))}\n",
    "  for i in range(len(X)):\n",
    "    euc_dist=[]\n",
    "    for j in range(len(centroid)):\n",
    "      euc_dist.append(np.linalg.norm(X[i]-centroid[j]))\n",
    "    min_ind = np.argmin(euc_dist)\n",
    "    d += min(euc_dist)\n",
    "    clusters[min_ind].append(X[i])\n",
    "  '''for i in range(len(centroid)):\n",
    "    clusters[i]=np.array(clusters[i])'''\n",
    "  return clusters , d/len(X)\n",
    "\n",
    "def calc_centroid(centroid,clusters,n_clusters):\n",
    "  for i in range(n_clusters):\n",
    "    centroid[i] = np.mean(clusters[i], axis=0)\n",
    "  #print(centroid)\n",
    "  return centroid\n",
    "\n",
    "def plot_(centroid,clusters,n_clusters):\n",
    "    for i in range(n_clusters):\n",
    "      plt.scatterplot(clusters[i][:][0],clusters[i][:][1])\n",
    "      plt.legend(str(i))\n",
    "\n",
    "def k_means(X,n_clusters,max_iter=20,thresh=0.01):\n",
    "  print('---------------No of cluster :',n_clusters)\n",
    "  k = n_clusters\n",
    "\n",
    "  # Initialize Centroids Randomly \n",
    "  centroid_ind = random.sample(range(len(X)),k)\n",
    "  centroid = []  \n",
    "  for i in range(k):\n",
    "    centroid.append(X[centroid_ind[i]]) \n",
    "  centroid = np.array(centroid)\n",
    "  #print('Initial Centroid :',centroid)\n",
    "\n",
    "  # Assigning Clusters \n",
    "  clusters, distortion = assign_cluster(X,centroid)\n",
    "\n",
    "  #Recalculating Centroids\n",
    "  prev_centroid = centroid.copy()\n",
    "  centroid = calc_centroid(centroid,clusters,n_clusters)\n",
    "  #print('prev : ',prev_centroid,'new : ',centroid)\n",
    "  #print('diff  :  ',np.linalg.norm(prev_centroid-centroid))\n",
    "  max_iter-=1\n",
    "\n",
    "  while (np.linalg.norm(prev_centroid-centroid)>=thresh and max_iter>=0):\n",
    "    max_iter-=1\n",
    "    clusters,distortion =assign_cluster(X,centroid)\n",
    "    prev_centroid = centroid.copy()\n",
    "    centroid = calc_centroid(centroid,clusters,n_clusters)\n",
    "    #print('diff  :  ',np.linalg.norm(prev_centroid-centroid))\n",
    "\n",
    "  return clusters,centroid,distortion"
   ]
  },
  {
   "cell_type": "code",
   "execution_count": 33,
   "metadata": {},
   "outputs": [],
   "source": [
    "def get_sequence(arr, centroids):\n",
    "    n = arr.shape[0]\n",
    "    seq = []\n",
    "    for i in range(n):\n",
    "        cluster = np.argmin(np.sum((centroids - arr[i, :])**2, axis = 1))\n",
    "        seq.append(cluster)\n",
    "    return seq\n",
    "\n",
    "def get_symbols(dir, nc, centroids):\n",
    "    s_vector = []\n",
    "    files = os.listdir(dir)\n",
    "    for file in files:\n",
    "        if '.mfcc' in file:\n",
    "            arr = np.loadtxt(dir + file, skiprows = 1)\n",
    "            # nf = arr[0]\n",
    "            # arr_res = np.reshape(arr, (int(nf), nc))\n",
    "            seq = get_sequence(arr, centroids)\n",
    "            s_vector.append(seq)\n",
    "    return s_vector"
   ]
  },
  {
   "cell_type": "code",
   "execution_count": 34,
   "metadata": {},
   "outputs": [],
   "source": [
    "def get_features(dir, nc):\n",
    "    f_vector = []\n",
    "    files = os.listdir(dir)\n",
    "    for file in files:\n",
    "        if '.mfcc' in file:\n",
    "            arr = np.loadtxt(dir + file, skiprows = 1)\n",
    "            # nf = arr[0]\n",
    "            # arr_res = np.reshape(arr, (int(nf), nc))\n",
    "            f_vector.append(arr)\n",
    "    return np.concatenate(f_vector, axis = 0)"
   ]
  },
  {
   "cell_type": "code",
   "execution_count": 35,
   "metadata": {},
   "outputs": [],
   "source": [
    "NC = 38\n",
    "classes = [0, 1, 2, 3, 4]\n",
    "a_train_dir = 'Isolated digits/1/train/'\n",
    "ai_train_dir = 'Isolated digits/2/train/'\n",
    "ba_train_dir = 'Isolated digits/4/train/'\n",
    "da_train_dir = 'Isolated digits/9/train/'\n",
    "la_train_dir = 'Isolated digits/o/train/'\n",
    "train_dir = [a_train_dir, ai_train_dir, ba_train_dir, da_train_dir, la_train_dir]"
   ]
  },
  {
   "cell_type": "code",
   "execution_count": 36,
   "metadata": {},
   "outputs": [],
   "source": [
    "features = []\n",
    "for dir in train_dir:\n",
    "    f_vector = get_features(dir, NC)\n",
    "    features.append(f_vector)\n",
    "features = np.concatenate(features, axis = 0)"
   ]
  },
  {
   "cell_type": "code",
   "execution_count": 37,
   "metadata": {},
   "outputs": [
    {
     "data": {
      "text/plain": [
       "(18552, 38)"
      ]
     },
     "execution_count": 37,
     "metadata": {},
     "output_type": "execute_result"
    }
   ],
   "source": [
    "features.shape"
   ]
  },
  {
   "cell_type": "code",
   "execution_count": 38,
   "metadata": {},
   "outputs": [
    {
     "name": "stdout",
     "output_type": "stream",
     "text": [
      "---------------No of cluster : 20\n"
     ]
    }
   ],
   "source": [
    "n_clusters = 20\n",
    "clusters, centroid, distortion = k_means(features, n_clusters, max_iter = 20, thresh = 0.01)"
   ]
  },
  {
   "cell_type": "code",
   "execution_count": 41,
   "metadata": {},
   "outputs": [
    {
     "data": {
      "text/plain": [
       "(20, 38)"
      ]
     },
     "execution_count": 41,
     "metadata": {},
     "output_type": "execute_result"
    }
   ],
   "source": [
    "centroid.shape"
   ]
  },
  {
   "cell_type": "code",
   "execution_count": 42,
   "metadata": {},
   "outputs": [],
   "source": [
    "a_s_vector = get_symbols(a_train_dir, NC, centroid)\n",
    "ai_s_vector = get_symbols(ai_train_dir, NC, centroid)\n",
    "ba_s_vector = get_symbols(ba_train_dir, NC, centroid)\n",
    "da_s_vector = get_symbols(da_train_dir, NC, centroid)\n",
    "la_s_vector = get_symbols(la_train_dir, NC, centroid)\n",
    "\n",
    "train = [a_s_vector, ai_s_vector, ba_s_vector, da_s_vector, la_s_vector]"
   ]
  },
  {
   "cell_type": "markdown",
   "metadata": {},
   "source": [
    "### Dynamic Time Warping"
   ]
  },
  {
   "cell_type": "code",
   "execution_count": 43,
   "metadata": {},
   "outputs": [],
   "source": [
    "def DTW(s1, s2):\n",
    "    n = len(s1)\n",
    "    m = len(s2)\n",
    "    matrix = [[np.inf]*(m + 1) for _ in range(n + 1)]\n",
    "    matrix[0][0] = 0\n",
    "    for i in range(1, n + 1):\n",
    "        for j in range(1, m + 1):\n",
    "            cost = abs(s1[i - 1] - s2[j - 1])\n",
    "            matrix[i][j] = cost + min(matrix[i - 1][j], matrix[i][j - 1], matrix[i - 1][j - 1])\n",
    "    return matrix[n][m]\n",
    "\n",
    "def get_score(s, X):\n",
    "    n = len(X)\n",
    "    scores = []\n",
    "    for i in range(n):\n",
    "        scores.append(DTW(s, X[i]))\n",
    "    return np.mean(scores)\n",
    "    \n",
    "def classify_DTW(X, train):\n",
    "    n = len(X)\n",
    "    c = len(train)\n",
    "    pred = np.zeros((n, c))\n",
    "    for i in range(n):\n",
    "        scores = []\n",
    "        for j in range(c):\n",
    "            score = get_score(X[i], train[j])\n",
    "            scores.append(score)\n",
    "        pred[i, :] = scores\n",
    "    pred_target = np.argmin(pred, axis = 1)\n",
    "    return pred, pred_target"
   ]
  },
  {
   "cell_type": "code",
   "execution_count": 44,
   "metadata": {},
   "outputs": [],
   "source": [
    "dev_a = get_symbols('Isolated digits/1/dev/', NC, centroid)\n",
    "dev_ai = get_symbols('Isolated digits/2/dev/', NC, centroid)\n",
    "dev_ba = get_symbols('Isolated digits/4/dev/', NC, centroid)\n",
    "dev_da = get_symbols('Isolated digits/9/dev/', NC, centroid)\n",
    "dev_la = get_symbols('Isolated digits/o/dev/', NC, centroid)"
   ]
  },
  {
   "cell_type": "code",
   "execution_count": 45,
   "metadata": {},
   "outputs": [],
   "source": [
    "pred_a, pred_target_a = classify_DTW(dev_a, train)\n",
    "pred_ai, pred_target_ai = classify_DTW(dev_ai, train)\n",
    "pred_ba, pred_target_ba = classify_DTW(dev_ba, train)\n",
    "pred_da, pred_target_da = classify_DTW(dev_da, train)\n",
    "pred_la, pred_target_la = classify_DTW(dev_la, train)"
   ]
  },
  {
   "cell_type": "code",
   "execution_count": 46,
   "metadata": {},
   "outputs": [],
   "source": [
    "y = pd.Series([0]*12 + [1]*12 + [2]*12 + [3]*12 + [4]*12)\n",
    "scores = np.concatenate([pred_a, pred_ai, pred_ba, pred_da, pred_la], axis = 0)\n",
    "y_pred = np.concatenate([pred_target_a, pred_target_ai, pred_target_ba, pred_target_da, pred_target_la], axis = 0)"
   ]
  },
  {
   "cell_type": "code",
   "execution_count": 47,
   "metadata": {},
   "outputs": [],
   "source": [
    "def evaluate_classifier(y, scores, thresh = 0.5):\n",
    "    enc = OneHotEncoder()\n",
    "    y_sparse = enc.fit_transform(y.to_numpy().reshape(-1, 1)).toarray()\n",
    "    prob = scores/np.sum(scores, axis = -1)[:, np.newaxis]\n",
    "    n, c = prob.shape\n",
    "    cm = np.zeros((2, 2))\n",
    "    for i in range(c):\n",
    "        col = []\n",
    "        for j in range(y.shape[0]):\n",
    "            if prob[j, i] <= thresh:\n",
    "                col.append(1)\n",
    "            else:\n",
    "                col.append(0)\n",
    "        cm += confusion_matrix(y_sparse[:, i], col)\n",
    "    tpr = cm[1, 1]/(cm[1, 1] + cm[1, 0])\n",
    "    fpr = cm[0, 1]/(cm[0, 1] + cm[0, 0])\n",
    "    return tpr, fpr, cm\n",
    "\n",
    "def compute_ROC(y, scores, h = 0.05):\n",
    "    threshold = [i*h for i in range(int(1/h + 1))]\n",
    "    tpr, fpr = [], []\n",
    "    for thresh in threshold:\n",
    "        a, b, _ = evaluate_classifier(y, scores, thresh = thresh)\n",
    "        tpr.append(a)\n",
    "        fpr.append(b)\n",
    "    return tpr, fpr, threshold\n",
    "\n",
    "def compute_DET(y, scores, h = 0.05):\n",
    "    threshold = [i*h for i in range(int(1/h + 1))]\n",
    "    fpr, fnr = [], []\n",
    "    for thresh in threshold:\n",
    "        _, b, cm = evaluate_classifier(y, scores, thresh = thresh)\n",
    "        fpr.append(b)\n",
    "        fnr.append(cm[1, 0]/(cm[1, 0] + cm[1, 1]))\n",
    "    return fpr, fnr, threshold\n",
    "\n",
    "def plot_confusion_matrix(y, pred, classes, title = 'Development Set'):\n",
    "    # Plot confusion matrix in a beautiful manner\n",
    "    fig = plt.figure(figsize=(5, 4))\n",
    "    ax= plt.subplot()\n",
    "    sns.heatmap(confusion_matrix(y, pred), annot=True, ax = ax, fmt = 'g'); #annot=True to annotate cells\n",
    "    # labels, title and ticks\n",
    "    ax.set_xlabel('Predicted', fontsize=20)\n",
    "    ax.xaxis.set_label_position('bottom')\n",
    "    plt.xticks(rotation=90)\n",
    "    ax.xaxis.set_ticklabels(classes, fontsize = 10)\n",
    "    ax.xaxis.tick_bottom()\n",
    "\n",
    "    ax.set_ylabel('True', fontsize=20)\n",
    "    ax.yaxis.set_ticklabels(classes, fontsize = 10)\n",
    "    plt.yticks(rotation=0)\n",
    "\n",
    "    plt.title('Confusion Matrix - ' + title, fontsize=20)\n",
    "    plt.show()"
   ]
  },
  {
   "cell_type": "code",
   "execution_count": 48,
   "metadata": {},
   "outputs": [
    {
     "data": {
      "image/png": "[encoded data removed]",
      "text/plain": [
       "<Figure size 360x288 with 2 Axes>"
      ]
     },
     "metadata": {
      "needs_background": "light"
     },
     "output_type": "display_data"
    }
   ],
   "source": [
    "plot_confusion_matrix(y, y_pred, classes = classes)"
   ]
  },
  {
   "cell_type": "code",
   "execution_count": 49,
   "metadata": {},
   "outputs": [],
   "source": [
    "tpr, fpr, _ = compute_ROC(y, scores)\n",
    "fpr, fnr, _ = compute_DET(y, scores)"
   ]
  },
  {
   "cell_type": "code",
   "execution_count": 50,
   "metadata": {},
   "outputs": [
    {
     "name": "stderr",
     "output_type": "stream",
     "text": [
      "No artists with labels found to put in legend.  Note that artists whose label start with an underscore are ignored when legend() is called with no argument.\n"
     ]
    },
    {
     "data": {
      "image/png": "[encoded data removed]",
      "text/plain": [
       "<Figure size 432x288 with 1 Axes>"
      ]
     },
     "metadata": {
      "needs_background": "light"
     },
     "output_type": "display_data"
    }
   ],
   "source": [
    "plt.plot(fpr, tpr, linewidth = 2)\n",
    "plt.plot([0, 1], [0, 1], 'k--')\n",
    "plt.xlabel('FPR')\n",
    "plt.ylabel('TPR - Recall')\n",
    "plt.title('Receiver Operator Characteristics (ROC)')\n",
    "plt.legend()\n",
    "plt.show()"
   ]
  },
  {
   "cell_type": "code",
   "execution_count": 51,
   "metadata": {},
   "outputs": [
    {
     "data": {
      "image/png": "[encoded data removed]",
      "text/plain": [
       "<Figure size 432x288 with 1 Axes>"
      ]
     },
     "metadata": {
      "needs_background": "light"
     },
     "output_type": "display_data"
    }
   ],
   "source": [
    "fig, axs = plt.subplots()\n",
    "DetCurveDisplay(fpr = fpr, fnr = fnr).plot(ax = axs)\n",
    "plt.title('Detection Error Tradeoff curves (DET)')\n",
    "plt.show()"
   ]
  }
 ],
 "metadata": {
  "interpreter": {
   "hash": "d406864f2ee78ecc67afccccd0a48c216f41ca3a0f9ca739a0b9d8b15ae422ba"
  },
  "kernelspec": {
   "display_name": "Python 3.10.1 64-bit",
   "language": "python",
   "name": "python3"
  },
  "language_info": {
   "codemirror_mode": {
    "name": "ipython",
    "version": 3
   },
   "file_extension": ".py",
   "mimetype": "text/x-python",
   "name": "python",
   "nbconvert_exporter": "python",
   "pygments_lexer": "ipython3",
   "version": "3.10.1"
  },
  "orig_nbformat": 4
 },
 "nbformat": 4,
 "nbformat_minor": 2
}
